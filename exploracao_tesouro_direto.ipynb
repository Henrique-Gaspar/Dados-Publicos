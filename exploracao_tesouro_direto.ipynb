{
 "cells": [
  {
   "cell_type": "markdown",
   "source": [
    "# Análise dos investidores do tesouro direto "
   ],
   "metadata": {}
  },
  {
   "cell_type": "code",
   "execution_count": 1,
   "source": [
    "import pandas as pd\r\n",
    "from pandas_profiling import ProfileReport\r\n",
    "import seaborn as sns\r\n",
    "import matplotlib.pyplot as plt\r\n",
    "import matplotlib.ticker as mtick"
   ],
   "outputs": [],
   "metadata": {}
  },
  {
   "cell_type": "code",
   "execution_count": 3,
   "source": [
    "## Importação dos dados do site tesourotransparente.gov\r\n",
    "table_chunk = pd.read_csv(\"https://www.tesourotransparente.gov.br/ckan/dataset/48a7fd9d-78e5-43cb-bcba-6e7dcaf2d741/resource/0fd2ac86-4673-46c0-a889-b46224ade563/download/InvestidoresTesouroDireto.csv\",\r\n",
    "sep=';', encoding='cp1252', chunksize=10000, iterator=True)"
   ],
   "outputs": [],
   "metadata": {}
  },
  {
   "cell_type": "code",
   "execution_count": 4,
   "source": [
    "df = pd.concat(table_chunk, ignore_index=True)"
   ],
   "outputs": [],
   "metadata": {}
  },
  {
   "cell_type": "code",
   "execution_count": 5,
   "source": [
    "## Checando a existência de valores nulos\r\n",
    "df.isnull().sum()"
   ],
   "outputs": [
    {
     "output_type": "execute_result",
     "data": {
      "text/plain": [
       "Codigo do Investidor    0\n",
       "Data de Adesao          0\n",
       "Estado Civil            0\n",
       "Genero                  0\n",
       "Profissao               0\n",
       "Idade                   0\n",
       "UF do Investidor        0\n",
       "Cidade do Investidor    0\n",
       "Pais do Investidor      0\n",
       "Situacao da Conta       0\n",
       "Operou 12 Meses         0\n",
       "dtype: int64"
      ]
     },
     "metadata": {},
     "execution_count": 5
    }
   ],
   "metadata": {}
  },
  {
   "cell_type": "code",
   "execution_count": 6,
   "source": [
    "## Fomatos de cada coluna\r\n",
    "df.info()"
   ],
   "outputs": [
    {
     "output_type": "stream",
     "name": "stdout",
     "text": [
      "<class 'pandas.core.frame.DataFrame'>\n",
      "RangeIndex: 10306900 entries, 0 to 10306899\n",
      "Data columns (total 11 columns):\n",
      " #   Column                Dtype \n",
      "---  ------                ----- \n",
      " 0   Codigo do Investidor  int64 \n",
      " 1   Data de Adesao        object\n",
      " 2   Estado Civil          object\n",
      " 3   Genero                object\n",
      " 4   Profissao             object\n",
      " 5   Idade                 int64 \n",
      " 6   UF do Investidor      object\n",
      " 7   Cidade do Investidor  object\n",
      " 8   Pais do Investidor    object\n",
      " 9   Situacao da Conta     object\n",
      " 10  Operou 12 Meses       object\n",
      "dtypes: int64(2), object(9)\n",
      "memory usage: 865.0+ MB\n"
     ]
    }
   ],
   "metadata": {}
  },
  {
   "cell_type": "code",
   "execution_count": 7,
   "source": [
    "## Reduzir o uso de memória\r\n",
    "df['Codigo do Investidor'] = df[\"Codigo do Investidor\"].astype(\"int32\")\r\n",
    "df['Idade'] = df['Idade'].astype(\"int32\")"
   ],
   "outputs": [],
   "metadata": {}
  },
  {
   "cell_type": "code",
   "execution_count": 8,
   "source": [
    "df['Pais do Investidor'].value_counts()"
   ],
   "outputs": [
    {
     "output_type": "execute_result",
     "data": {
      "text/plain": [
       "BRASIL    10306900\n",
       "Name: Pais do Investidor, dtype: int64"
      ]
     },
     "metadata": {},
     "execution_count": 8
    }
   ],
   "metadata": {}
  },
  {
   "cell_type": "code",
   "execution_count": 9,
   "source": [
    "df.drop([\"Pais do Investidor\"], axis=1, inplace=True)"
   ],
   "outputs": [],
   "metadata": {}
  },
  {
   "cell_type": "code",
   "execution_count": 10,
   "source": [
    "## Vasculhando investidores repetidos\r\n",
    "df[\"Codigo do Investidor\"].value_counts()"
   ],
   "outputs": [
    {
     "output_type": "execute_result",
     "data": {
      "text/plain": [
       "444162      23\n",
       "39094       22\n",
       "52019       21\n",
       "563648      19\n",
       "4440982     19\n",
       "            ..\n",
       "5516295      1\n",
       "5516267      1\n",
       "5516266      1\n",
       "5516247      1\n",
       "12937309     1\n",
       "Name: Codigo do Investidor, Length: 7295813, dtype: int64"
      ]
     },
     "metadata": {},
     "execution_count": 10
    }
   ],
   "metadata": {}
  },
  {
   "cell_type": "code",
   "execution_count": 11,
   "source": [
    "## Vasculhando investidores repetidos\r\n",
    "df[df[\"Codigo do Investidor\"].map(df[\"Codigo do Investidor\"].value_counts()) > 20]"
   ],
   "outputs": [
    {
     "output_type": "execute_result",
     "data": {
      "text/html": [
       "<div>\n",
       "<style scoped>\n",
       "    .dataframe tbody tr th:only-of-type {\n",
       "        vertical-align: middle;\n",
       "    }\n",
       "\n",
       "    .dataframe tbody tr th {\n",
       "        vertical-align: top;\n",
       "    }\n",
       "\n",
       "    .dataframe thead th {\n",
       "        text-align: right;\n",
       "    }\n",
       "</style>\n",
       "<table border=\"1\" class=\"dataframe\">\n",
       "  <thead>\n",
       "    <tr style=\"text-align: right;\">\n",
       "      <th></th>\n",
       "      <th>Codigo do Investidor</th>\n",
       "      <th>Data de Adesao</th>\n",
       "      <th>Estado Civil</th>\n",
       "      <th>Genero</th>\n",
       "      <th>Profissao</th>\n",
       "      <th>Idade</th>\n",
       "      <th>UF do Investidor</th>\n",
       "      <th>Cidade do Investidor</th>\n",
       "      <th>Situacao da Conta</th>\n",
       "      <th>Operou 12 Meses</th>\n",
       "    </tr>\n",
       "  </thead>\n",
       "  <tbody>\n",
       "    <tr>\n",
       "      <th>598</th>\n",
       "      <td>444162</td>\n",
       "      <td>06/04/2015</td>\n",
       "      <td>Solteiro(a)</td>\n",
       "      <td>M</td>\n",
       "      <td>ECONOMISTA</td>\n",
       "      <td>26</td>\n",
       "      <td>SP</td>\n",
       "      <td>SAO PAULO</td>\n",
       "      <td>D</td>\n",
       "      <td>N</td>\n",
       "    </tr>\n",
       "    <tr>\n",
       "      <th>659271</th>\n",
       "      <td>444162</td>\n",
       "      <td>24/03/2016</td>\n",
       "      <td>Solteiro(a)</td>\n",
       "      <td>M</td>\n",
       "      <td>ECONOMISTA</td>\n",
       "      <td>26</td>\n",
       "      <td>SP</td>\n",
       "      <td>SAO PAULO</td>\n",
       "      <td>D</td>\n",
       "      <td>N</td>\n",
       "    </tr>\n",
       "    <tr>\n",
       "      <th>695654</th>\n",
       "      <td>39094</td>\n",
       "      <td>27/07/2015</td>\n",
       "      <td>Divorciado(a)</td>\n",
       "      <td>M</td>\n",
       "      <td>SERVIDO PÚBLICO ESTADUAL</td>\n",
       "      <td>56</td>\n",
       "      <td>BA</td>\n",
       "      <td>LAURO DE FREITAS</td>\n",
       "      <td>D</td>\n",
       "      <td>N</td>\n",
       "    </tr>\n",
       "    <tr>\n",
       "      <th>700167</th>\n",
       "      <td>52019</td>\n",
       "      <td>30/10/2008</td>\n",
       "      <td>Casado(a) com brasileiro(a) nato(a)</td>\n",
       "      <td>M</td>\n",
       "      <td>MÉDICO</td>\n",
       "      <td>72</td>\n",
       "      <td>SP</td>\n",
       "      <td>SAO PAULO</td>\n",
       "      <td>D</td>\n",
       "      <td>N</td>\n",
       "    </tr>\n",
       "    <tr>\n",
       "      <th>978216</th>\n",
       "      <td>444162</td>\n",
       "      <td>16/03/2016</td>\n",
       "      <td>Solteiro(a)</td>\n",
       "      <td>M</td>\n",
       "      <td>ECONOMISTA</td>\n",
       "      <td>26</td>\n",
       "      <td>SP</td>\n",
       "      <td>SAO PAULO</td>\n",
       "      <td>D</td>\n",
       "      <td>N</td>\n",
       "    </tr>\n",
       "    <tr>\n",
       "      <th>...</th>\n",
       "      <td>...</td>\n",
       "      <td>...</td>\n",
       "      <td>...</td>\n",
       "      <td>...</td>\n",
       "      <td>...</td>\n",
       "      <td>...</td>\n",
       "      <td>...</td>\n",
       "      <td>...</td>\n",
       "      <td>...</td>\n",
       "      <td>...</td>\n",
       "    </tr>\n",
       "    <tr>\n",
       "      <th>9886405</th>\n",
       "      <td>444162</td>\n",
       "      <td>08/07/2013</td>\n",
       "      <td>Solteiro(a)</td>\n",
       "      <td>M</td>\n",
       "      <td>ECONOMISTA</td>\n",
       "      <td>26</td>\n",
       "      <td>SP</td>\n",
       "      <td>SAO PAULO</td>\n",
       "      <td>A</td>\n",
       "      <td>N</td>\n",
       "    </tr>\n",
       "    <tr>\n",
       "      <th>9892196</th>\n",
       "      <td>52019</td>\n",
       "      <td>26/11/2014</td>\n",
       "      <td>Casado(a) com brasileiro(a) nato(a)</td>\n",
       "      <td>M</td>\n",
       "      <td>MÉDICO</td>\n",
       "      <td>72</td>\n",
       "      <td>SP</td>\n",
       "      <td>SAO PAULO</td>\n",
       "      <td>D</td>\n",
       "      <td>N</td>\n",
       "    </tr>\n",
       "    <tr>\n",
       "      <th>9893950</th>\n",
       "      <td>52019</td>\n",
       "      <td>23/06/2009</td>\n",
       "      <td>Casado(a) com brasileiro(a) nato(a)</td>\n",
       "      <td>M</td>\n",
       "      <td>MÉDICO</td>\n",
       "      <td>72</td>\n",
       "      <td>SP</td>\n",
       "      <td>SAO PAULO</td>\n",
       "      <td>D</td>\n",
       "      <td>N</td>\n",
       "    </tr>\n",
       "    <tr>\n",
       "      <th>9923761</th>\n",
       "      <td>39094</td>\n",
       "      <td>23/12/2005</td>\n",
       "      <td>Divorciado(a)</td>\n",
       "      <td>M</td>\n",
       "      <td>SERVIDO PÚBLICO ESTADUAL</td>\n",
       "      <td>56</td>\n",
       "      <td>BA</td>\n",
       "      <td>LAURO DE FREITAS</td>\n",
       "      <td>A</td>\n",
       "      <td>S</td>\n",
       "    </tr>\n",
       "    <tr>\n",
       "      <th>10190500</th>\n",
       "      <td>52019</td>\n",
       "      <td>16/09/2014</td>\n",
       "      <td>Casado(a) com brasileiro(a) nato(a)</td>\n",
       "      <td>M</td>\n",
       "      <td>MÉDICO</td>\n",
       "      <td>72</td>\n",
       "      <td>SP</td>\n",
       "      <td>SAO PAULO</td>\n",
       "      <td>A</td>\n",
       "      <td>N</td>\n",
       "    </tr>\n",
       "  </tbody>\n",
       "</table>\n",
       "<p>66 rows × 10 columns</p>\n",
       "</div>"
      ],
      "text/plain": [
       "          Codigo do Investidor Data de Adesao  \\\n",
       "598                     444162     06/04/2015   \n",
       "659271                  444162     24/03/2016   \n",
       "695654                   39094     27/07/2015   \n",
       "700167                   52019     30/10/2008   \n",
       "978216                  444162     16/03/2016   \n",
       "...                        ...            ...   \n",
       "9886405                 444162     08/07/2013   \n",
       "9892196                  52019     26/11/2014   \n",
       "9893950                  52019     23/06/2009   \n",
       "9923761                  39094     23/12/2005   \n",
       "10190500                 52019     16/09/2014   \n",
       "\n",
       "                                 Estado Civil Genero  \\\n",
       "598                               Solteiro(a)      M   \n",
       "659271                            Solteiro(a)      M   \n",
       "695654                          Divorciado(a)      M   \n",
       "700167    Casado(a) com brasileiro(a) nato(a)      M   \n",
       "978216                            Solteiro(a)      M   \n",
       "...                                       ...    ...   \n",
       "9886405                           Solteiro(a)      M   \n",
       "9892196   Casado(a) com brasileiro(a) nato(a)      M   \n",
       "9893950   Casado(a) com brasileiro(a) nato(a)      M   \n",
       "9923761                         Divorciado(a)      M   \n",
       "10190500  Casado(a) com brasileiro(a) nato(a)      M   \n",
       "\n",
       "                         Profissao  Idade UF do Investidor  \\\n",
       "598                     ECONOMISTA     26               SP   \n",
       "659271                  ECONOMISTA     26               SP   \n",
       "695654    SERVIDO PÚBLICO ESTADUAL     56               BA   \n",
       "700167                      MÉDICO     72               SP   \n",
       "978216                  ECONOMISTA     26               SP   \n",
       "...                            ...    ...              ...   \n",
       "9886405                 ECONOMISTA     26               SP   \n",
       "9892196                     MÉDICO     72               SP   \n",
       "9893950                     MÉDICO     72               SP   \n",
       "9923761   SERVIDO PÚBLICO ESTADUAL     56               BA   \n",
       "10190500                    MÉDICO     72               SP   \n",
       "\n",
       "         Cidade do Investidor Situacao da Conta Operou 12 Meses  \n",
       "598                 SAO PAULO                 D               N  \n",
       "659271              SAO PAULO                 D               N  \n",
       "695654       LAURO DE FREITAS                 D               N  \n",
       "700167              SAO PAULO                 D               N  \n",
       "978216              SAO PAULO                 D               N  \n",
       "...                       ...               ...             ...  \n",
       "9886405             SAO PAULO                 A               N  \n",
       "9892196             SAO PAULO                 D               N  \n",
       "9893950             SAO PAULO                 D               N  \n",
       "9923761      LAURO DE FREITAS                 A               S  \n",
       "10190500            SAO PAULO                 A               N  \n",
       "\n",
       "[66 rows x 10 columns]"
      ]
     },
     "metadata": {},
     "execution_count": 11
    }
   ],
   "metadata": {}
  },
  {
   "cell_type": "code",
   "execution_count": 13,
   "source": [
    "## Filtrando apenas os investidores ativos\r\n",
    "investidores_ativos = df[df[\"Situacao da Conta\"] == \"A\"].copy()\r\n",
    "investidores_ativos.head()"
   ],
   "outputs": [
    {
     "output_type": "execute_result",
     "data": {
      "text/html": [
       "<div>\n",
       "<style scoped>\n",
       "    .dataframe tbody tr th:only-of-type {\n",
       "        vertical-align: middle;\n",
       "    }\n",
       "\n",
       "    .dataframe tbody tr th {\n",
       "        vertical-align: top;\n",
       "    }\n",
       "\n",
       "    .dataframe thead th {\n",
       "        text-align: right;\n",
       "    }\n",
       "</style>\n",
       "<table border=\"1\" class=\"dataframe\">\n",
       "  <thead>\n",
       "    <tr style=\"text-align: right;\">\n",
       "      <th></th>\n",
       "      <th>Codigo do Investidor</th>\n",
       "      <th>Data de Adesao</th>\n",
       "      <th>Estado Civil</th>\n",
       "      <th>Genero</th>\n",
       "      <th>Profissao</th>\n",
       "      <th>Idade</th>\n",
       "      <th>UF do Investidor</th>\n",
       "      <th>Cidade do Investidor</th>\n",
       "      <th>Situacao da Conta</th>\n",
       "      <th>Operou 12 Meses</th>\n",
       "    </tr>\n",
       "  </thead>\n",
       "  <tbody>\n",
       "    <tr>\n",
       "      <th>91</th>\n",
       "      <td>217072</td>\n",
       "      <td>23/02/2010</td>\n",
       "      <td>Casado(a) com brasileiro(a) nato(a)</td>\n",
       "      <td>M</td>\n",
       "      <td>ECONOMISTA</td>\n",
       "      <td>74</td>\n",
       "      <td>SP</td>\n",
       "      <td>SAO PAULO</td>\n",
       "      <td>A</td>\n",
       "      <td>N</td>\n",
       "    </tr>\n",
       "    <tr>\n",
       "      <th>388</th>\n",
       "      <td>248812</td>\n",
       "      <td>15/09/2010</td>\n",
       "      <td>Casado(a) com brasileiro(a) nato(a)</td>\n",
       "      <td>M</td>\n",
       "      <td>APOSENTADO (EXCETO FUNCIONÁRIO PÚBLICO)</td>\n",
       "      <td>80</td>\n",
       "      <td>DF</td>\n",
       "      <td>BRASILIA</td>\n",
       "      <td>A</td>\n",
       "      <td>N</td>\n",
       "    </tr>\n",
       "    <tr>\n",
       "      <th>440</th>\n",
       "      <td>260933</td>\n",
       "      <td>03/12/2010</td>\n",
       "      <td>Solteiro(a)</td>\n",
       "      <td>F</td>\n",
       "      <td>VENDEDOR PRACISTA, REPRESENTANTE COMERCIAL, CA...</td>\n",
       "      <td>55</td>\n",
       "      <td>SP</td>\n",
       "      <td>SAO PAULO</td>\n",
       "      <td>A</td>\n",
       "      <td>N</td>\n",
       "    </tr>\n",
       "    <tr>\n",
       "      <th>474</th>\n",
       "      <td>267935</td>\n",
       "      <td>11/01/2011</td>\n",
       "      <td>Casado(a) com brasileiro(a) nato(a)</td>\n",
       "      <td>M</td>\n",
       "      <td>OUTROS</td>\n",
       "      <td>52</td>\n",
       "      <td>SP</td>\n",
       "      <td>SAO PAULO</td>\n",
       "      <td>A</td>\n",
       "      <td>N</td>\n",
       "    </tr>\n",
       "    <tr>\n",
       "      <th>491</th>\n",
       "      <td>271331</td>\n",
       "      <td>26/01/2011</td>\n",
       "      <td>Casado(a) com brasileiro(a) nato(a)</td>\n",
       "      <td>F</td>\n",
       "      <td>APOSENTADO (EXCETO FUNCIONÁRIO PÚBLICO)</td>\n",
       "      <td>77</td>\n",
       "      <td>SP</td>\n",
       "      <td>SANTO ANDRE</td>\n",
       "      <td>A</td>\n",
       "      <td>N</td>\n",
       "    </tr>\n",
       "  </tbody>\n",
       "</table>\n",
       "</div>"
      ],
      "text/plain": [
       "     Codigo do Investidor Data de Adesao                         Estado Civil  \\\n",
       "91                 217072     23/02/2010  Casado(a) com brasileiro(a) nato(a)   \n",
       "388                248812     15/09/2010  Casado(a) com brasileiro(a) nato(a)   \n",
       "440                260933     03/12/2010                          Solteiro(a)   \n",
       "474                267935     11/01/2011  Casado(a) com brasileiro(a) nato(a)   \n",
       "491                271331     26/01/2011  Casado(a) com brasileiro(a) nato(a)   \n",
       "\n",
       "    Genero                                          Profissao  Idade  \\\n",
       "91       M                                         ECONOMISTA     74   \n",
       "388      M            APOSENTADO (EXCETO FUNCIONÁRIO PÚBLICO)     80   \n",
       "440      F  VENDEDOR PRACISTA, REPRESENTANTE COMERCIAL, CA...     55   \n",
       "474      M                                             OUTROS     52   \n",
       "491      F            APOSENTADO (EXCETO FUNCIONÁRIO PÚBLICO)     77   \n",
       "\n",
       "    UF do Investidor Cidade do Investidor Situacao da Conta Operou 12 Meses  \n",
       "91                SP            SAO PAULO                 A               N  \n",
       "388               DF             BRASILIA                 A               N  \n",
       "440               SP            SAO PAULO                 A               N  \n",
       "474               SP            SAO PAULO                 A               N  \n",
       "491               SP          SANTO ANDRE                 A               N  "
      ]
     },
     "metadata": {},
     "execution_count": 13
    }
   ],
   "metadata": {}
  },
  {
   "cell_type": "code",
   "execution_count": 14,
   "source": [
    "investidores_ativos.drop(['Situacao da Conta'], axis=1, inplace=True)"
   ],
   "outputs": [],
   "metadata": {}
  },
  {
   "cell_type": "code",
   "execution_count": 15,
   "source": [
    "investidores_ativos.shape"
   ],
   "outputs": [
    {
     "output_type": "execute_result",
     "data": {
      "text/plain": [
       "(9206217, 9)"
      ]
     },
     "metadata": {},
     "execution_count": 15
    }
   ],
   "metadata": {}
  },
  {
   "cell_type": "code",
   "execution_count": 16,
   "source": [
    "investidores_ativos[\"Codigo do Investidor\"].value_counts()"
   ],
   "outputs": [
    {
     "output_type": "execute_result",
     "data": {
      "text/plain": [
       "563648      19\n",
       "4440982     17\n",
       "9245356     16\n",
       "334849      16\n",
       "1179302     15\n",
       "            ..\n",
       "8313902      1\n",
       "8313897      1\n",
       "8313892      1\n",
       "8313889      1\n",
       "12937309     1\n",
       "Name: Codigo do Investidor, Length: 6879994, dtype: int64"
      ]
     },
     "metadata": {},
     "execution_count": 16
    }
   ],
   "metadata": {}
  },
  {
   "cell_type": "code",
   "execution_count": 17,
   "source": [
    "## Filtrando investidores repetidos\r\n",
    "investidores_ativos.drop_duplicates(subset=['Codigo do Investidor'], keep='first', inplace=True)"
   ],
   "outputs": [],
   "metadata": {}
  },
  {
   "cell_type": "code",
   "execution_count": 16,
   "source": [
    "investidores_ativos['Genero'].value_counts()"
   ],
   "outputs": [
    {
     "output_type": "execute_result",
     "data": {
      "text/plain": [
       "M    4744066\n",
       "F    2135927\n",
       "N          1\n",
       "Name: Genero, dtype: int64"
      ]
     },
     "metadata": {},
     "execution_count": 16
    }
   ],
   "metadata": {}
  },
  {
   "cell_type": "code",
   "execution_count": 18,
   "source": [
    "investidores_ativos[investidores_ativos[\"Genero\"] == 'N']"
   ],
   "outputs": [
    {
     "output_type": "execute_result",
     "data": {
      "text/html": [
       "<div>\n",
       "<style scoped>\n",
       "    .dataframe tbody tr th:only-of-type {\n",
       "        vertical-align: middle;\n",
       "    }\n",
       "\n",
       "    .dataframe tbody tr th {\n",
       "        vertical-align: top;\n",
       "    }\n",
       "\n",
       "    .dataframe thead th {\n",
       "        text-align: right;\n",
       "    }\n",
       "</style>\n",
       "<table border=\"1\" class=\"dataframe\">\n",
       "  <thead>\n",
       "    <tr style=\"text-align: right;\">\n",
       "      <th></th>\n",
       "      <th>Codigo do Investidor</th>\n",
       "      <th>Data de Adesao</th>\n",
       "      <th>Estado Civil</th>\n",
       "      <th>Genero</th>\n",
       "      <th>Profissao</th>\n",
       "      <th>Idade</th>\n",
       "      <th>UF do Investidor</th>\n",
       "      <th>Cidade do Investidor</th>\n",
       "      <th>Operou 12 Meses</th>\n",
       "    </tr>\n",
       "  </thead>\n",
       "  <tbody>\n",
       "    <tr>\n",
       "      <th>9107280</th>\n",
       "      <td>64232</td>\n",
       "      <td>01/01/1900</td>\n",
       "      <td>Não se aplica</td>\n",
       "      <td>N</td>\n",
       "      <td>Não se aplica</td>\n",
       "      <td>97</td>\n",
       "      <td>SP</td>\n",
       "      <td>SÃO PAULO</td>\n",
       "      <td>N</td>\n",
       "    </tr>\n",
       "  </tbody>\n",
       "</table>\n",
       "</div>"
      ],
      "text/plain": [
       "         Codigo do Investidor Data de Adesao   Estado Civil Genero  \\\n",
       "9107280                 64232     01/01/1900  Não se aplica      N   \n",
       "\n",
       "             Profissao  Idade UF do Investidor Cidade do Investidor  \\\n",
       "9107280  Não se aplica     97               SP            SÃO PAULO   \n",
       "\n",
       "        Operou 12 Meses  \n",
       "9107280               N  "
      ]
     },
     "metadata": {},
     "execution_count": 18
    }
   ],
   "metadata": {}
  },
  {
   "cell_type": "code",
   "execution_count": 19,
   "source": [
    "investidores_ativos.drop(9107280, axis=0, inplace=True)"
   ],
   "outputs": [],
   "metadata": {}
  },
  {
   "cell_type": "code",
   "execution_count": 20,
   "source": [
    "## Investidores por gênero\r\n",
    "ax, fig = plt.subplots()\r\n",
    "ax = sns.countplot(data = investidores_ativos, x='Genero')\r\n",
    "tick = mtick.StrMethodFormatter('{x:,.0f}')\r\n",
    "ax.yaxis.set_major_formatter(tick)\r\n",
    "ax.set_xlabel(\"Gênero\")\r\n",
    "ax.set_ylabel(\"Nº de investidores\")\r\n",
    "plt.show()"
   ],
   "outputs": [
    {
     "output_type": "display_data",
     "data": {
      "image/png": "[encoded data removed]",
      "text/plain": [
       "<Figure size 640x480 with 1 Axes>"
      ]
     },
     "metadata": {}
    }
   ],
   "metadata": {}
  },
  {
   "cell_type": "code",
   "execution_count": 21,
   "source": [
    "investidores_ativos['Estado Civil'].value_counts()"
   ],
   "outputs": [
    {
     "output_type": "execute_result",
     "data": {
      "text/plain": [
       "Solteiro(a)                                    3705942\n",
       "Casado(a) com brasileiro(a) nato(a)            2399545\n",
       "Divorciado(a)                                   388040\n",
       "União estável                                   266202\n",
       "Viúvo(a)                                         73670\n",
       "Separado judic.                                  46537\n",
       "Casado(a) com estrangeiro(a)                        27\n",
       "Desquitado(a)                                       20\n",
       "Casado(a) com brasileiro(a) naturalizado(a)         10\n",
       "Name: Estado Civil, dtype: int64"
      ]
     },
     "metadata": {},
     "execution_count": 21
    }
   ],
   "metadata": {}
  },
  {
   "cell_type": "code",
   "execution_count": 23,
   "source": [
    "## Reduzir as categorias da coluna Estado Civil\r\n",
    "nova_coluna = []\r\n",
    "for n in investidores_ativos['Estado Civil']:\r\n",
    "    if n == \"Casado(a) com brasileiro(a) nato(a)\":\r\n",
    "        nova_coluna.append(\"Casado(a)\")\r\n",
    "    elif n == \"União estável\":\r\n",
    "        nova_coluna.append(\"Casado(a)\")\r\n",
    "    elif n == \"Separado judic.\":\r\n",
    "        nova_coluna.append(\"Divorciado(a)\")\r\n",
    "    elif n == \"Casado(a) com estrangeiro(a)\":\r\n",
    "        nova_coluna.append(\"Casado(a)\")\r\n",
    "    elif n == \"Desquitado(a)\":\r\n",
    "        nova_coluna.append(\"Divorciado(a)\")\r\n",
    "    elif n == \"Casado(a) com brasileiro(a) naturalizado(a)\":\r\n",
    "        nova_coluna.append(\"Casado(a)\")\r\n",
    "    else:\r\n",
    "        nova_coluna.append(n)"
   ],
   "outputs": [],
   "metadata": {}
  },
  {
   "cell_type": "code",
   "execution_count": 24,
   "source": [
    "pd.DataFrame(nova_coluna).value_counts()"
   ],
   "outputs": [
    {
     "output_type": "execute_result",
     "data": {
      "text/plain": [
       "Solteiro(a)      3705942\n",
       "Casado(a)        2665784\n",
       "Divorciado(a)     434597\n",
       "Viúvo(a)           73670\n",
       "dtype: int64"
      ]
     },
     "metadata": {},
     "execution_count": 24
    }
   ],
   "metadata": {}
  },
  {
   "cell_type": "code",
   "execution_count": 25,
   "source": [
    "investidores_ativos['Estado Civil'] = nova_coluna"
   ],
   "outputs": [],
   "metadata": {}
  },
  {
   "cell_type": "code",
   "execution_count": 26,
   "source": [
    "ax, fig = plt.subplots(figsize=(10,5))\r\n",
    "ax = sns.countplot(data = investidores_ativos, x=\"Estado Civil\")\r\n",
    "tick = mtick.StrMethodFormatter('{x:,.0f}')\r\n",
    "ax.yaxis.set_major_formatter(tick)\r\n",
    "ax.set_ylabel(\"Nº de investidores\")\r\n",
    "plt.show()"
   ],
   "outputs": [
    {
     "output_type": "display_data",
     "data": {
      "image/png": "[encoded data removed]",
      "text/plain": [
       "<Figure size 1000x500 with 1 Axes>"
      ]
     },
     "metadata": {}
    }
   ],
   "metadata": {}
  },
  {
   "cell_type": "code",
   "execution_count": 27,
   "source": [
    "## Principais cidades, com mais de 100.000 investidores\r\n",
    "fig, ax = plt.subplots(figsize=(10,5))\r\n",
    "ax = sns.countplot(data=investidores_ativos[investidores_ativos['Cidade do Investidor'].map(investidores_ativos[\"Cidade do Investidor\"].value_counts()) > 100000],\r\n",
    "x=\"Cidade do Investidor\")\r\n",
    "tick = mtick.StrMethodFormatter('{x:,.0f}')\r\n",
    "ax.yaxis.set_major_formatter(tick)\r\n",
    "ax.set_xlabel(\"Cidades\")\r\n",
    "ax.set_ylabel(\"Nº de investidores\")\r\n",
    "plt.show()"
   ],
   "outputs": [
    {
     "output_type": "display_data",
     "data": {
      "image/png": "[encoded data removed]",
      "text/plain": [
       "<Figure size 1000x500 with 1 Axes>"
      ]
     },
     "metadata": {}
    }
   ],
   "metadata": {}
  },
  {
   "cell_type": "code",
   "execution_count": 28,
   "source": [
    "investidores_ativos['Profissao'].value_counts()"
   ],
   "outputs": [
    {
     "output_type": "execute_result",
     "data": {
      "text/plain": [
       "OUTROS                                                      1766779\n",
       "ADMINISTRADOR                                                408616\n",
       "ESTUDANTE                                                    331883\n",
       "ENGENHEIRO                                                   283915\n",
       "EMPRESÁRIO                                                   241824\n",
       "                                                             ...   \n",
       "MEMBRO DO PODER LEGISLATIVO: SENADOR, DEP.FED.E ESTADUAL        435\n",
       "JORNALEIRO                                                      377\n",
       "FALECIDO                                                        314\n",
       "CONTRAMESTRE DE EMBARCAÇÕES                                     198\n",
       "TRABALHADOR DE TRATAMENTO DE FUMO E DE FABR. CIGARROS           109\n",
       "Name: Profissao, Length: 158, dtype: int64"
      ]
     },
     "metadata": {},
     "execution_count": 28
    }
   ],
   "metadata": {}
  },
  {
   "cell_type": "code",
   "execution_count": 29,
   "source": [
    "fig, ax = plt.subplots(figsize=(10,5))\r\n",
    "ax = sns.countplot(data=investidores_ativos, x=\"UF do Investidor\", color='blue')\r\n",
    "tick = mtick.StrMethodFormatter('{x:,.0f}')\r\n",
    "ax.yaxis.set_major_formatter(tick)\r\n",
    "ax.set_xlabel(\"UF\")\r\n",
    "ax.set_ylabel(\"Nº de investidores\")\r\n",
    "plt.show()"
   ],
   "outputs": [
    {
     "output_type": "display_data",
     "data": {
      "image/png": "[encoded data removed]",
      "text/plain": [
       "<Figure size 1000x500 with 1 Axes>"
      ]
     },
     "metadata": {}
    }
   ],
   "metadata": {}
  },
  {
   "cell_type": "code",
   "execution_count": 30,
   "source": [
    "fig, ax = plt.subplots(figsize=(13,5))\r\n",
    "ax = sns.countplot(data = investidores_ativos[investidores_ativos['Profissao'].map(investidores_ativos['Profissao'].value_counts()) > 200000],\r\n",
    "             x='Profissao')\r\n",
    "tick = mtick.StrMethodFormatter('{x:,.0f}')\r\n",
    "ax.yaxis.set_major_formatter(tick)\r\n",
    "ax.set_ylabel(\"Nº de investidores\")\r\n",
    "plt.show()"
   ],
   "outputs": [
    {
     "output_type": "display_data",
     "data": {
      "image/png": "[encoded data removed]",
      "text/plain": [
       "<Figure size 1300x500 with 1 Axes>"
      ]
     },
     "metadata": {}
    }
   ],
   "metadata": {}
  },
  {
   "cell_type": "code",
   "execution_count": 31,
   "source": [
    "## Convertendo em data\r\n",
    "investidores_ativos['Data de Adesao'] = pd.to_datetime(investidores_ativos['Data de Adesao'])"
   ],
   "outputs": [],
   "metadata": {}
  },
  {
   "cell_type": "code",
   "execution_count": 32,
   "source": [
    "fig, ax = plt.subplots(figsize=(10,5))\r\n",
    "investidores_ativos[investidores_ativos['Data de Adesao'] > '2015']['Data de Adesao'].value_counts().plot()\r\n",
    "plt.show()"
   ],
   "outputs": [
    {
     "output_type": "display_data",
     "data": {
      "image/png": "[encoded data removed]",
      "text/plain": [
       "<Figure size 1000x500 with 1 Axes>"
      ]
     },
     "metadata": {}
    }
   ],
   "metadata": {}
  }
 ],
 "metadata": {
  "orig_nbformat": 4,
  "language_info": {
   "name": "python",
   "version": "3.9.6",
   "mimetype": "text/x-python",
   "codemirror_mode": {
    "name": "ipython",
    "version": 3
   },
   "pygments_lexer": "ipython3",
   "nbconvert_exporter": "python",
   "file_extension": ".py"
  },
  "kernelspec": {
   "name": "python3",
   "display_name": "Python 3.9.6 64-bit (conda)"
  },
  "interpreter": {
   "hash": "a1f18194d68ecc6872f983d1d1cbbfd9ce6e0dc2311b7dbe1e85a666ada3839e"
  }
 },
 "nbformat": 4,
 "nbformat_minor": 2
}